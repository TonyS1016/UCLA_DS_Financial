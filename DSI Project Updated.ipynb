{
 "cells": [
  {
   "cell_type": "markdown",
   "metadata": {},
   "source": [
    "# <center>DSI Project<center>\n",
    "    \n"
   ]
  },
  {
   "cell_type": "code",
   "execution_count": 435,
   "metadata": {},
   "outputs": [],
   "source": [
    "import pandas as pd\n",
    "import yfinance as yf\n",
    "import datetime\n",
    "import matplotlib.pyplot as plt\n",
    "import numpy as np\n",
    "import warnings\n",
    "import datetime\n",
    "import pyfolio\n",
    "\n",
    "from datetime import timedelta\n",
    "from sklearn.linear_model import LinearRegression\n",
    "warnings.filterwarnings(\"ignore\")"
   ]
  },
  {
   "cell_type": "code",
   "execution_count": 436,
   "metadata": {},
   "outputs": [
    {
     "data": {
      "text/html": [
       "<div>\n",
       "<style scoped>\n",
       "    .dataframe tbody tr th:only-of-type {\n",
       "        vertical-align: middle;\n",
       "    }\n",
       "\n",
       "    .dataframe tbody tr th {\n",
       "        vertical-align: top;\n",
       "    }\n",
       "\n",
       "    .dataframe thead th {\n",
       "        text-align: right;\n",
       "    }\n",
       "</style>\n",
       "<table border=\"1\" class=\"dataframe\">\n",
       "  <thead>\n",
       "    <tr style=\"text-align: right;\">\n",
       "      <th></th>\n",
       "      <th>Date</th>\n",
       "      <th>Close</th>\n",
       "      <th>DSI</th>\n",
       "    </tr>\n",
       "  </thead>\n",
       "  <tbody>\n",
       "    <tr>\n",
       "      <th>0</th>\n",
       "      <td>4/25/2016</td>\n",
       "      <td>111.08</td>\n",
       "      <td>30.0</td>\n",
       "    </tr>\n",
       "    <tr>\n",
       "      <th>1</th>\n",
       "      <td>4/26/2016</td>\n",
       "      <td>111.23</td>\n",
       "      <td>26.0</td>\n",
       "    </tr>\n",
       "    <tr>\n",
       "      <th>2</th>\n",
       "      <td>4/27/2016</td>\n",
       "      <td>111.26</td>\n",
       "      <td>31.0</td>\n",
       "    </tr>\n",
       "    <tr>\n",
       "      <th>3</th>\n",
       "      <td>4/28/2016</td>\n",
       "      <td>108.55</td>\n",
       "      <td>26.0</td>\n",
       "    </tr>\n",
       "    <tr>\n",
       "      <th>4</th>\n",
       "      <td>4/29/2016</td>\n",
       "      <td>106.90</td>\n",
       "      <td>26.0</td>\n",
       "    </tr>\n",
       "  </tbody>\n",
       "</table>\n",
       "</div>"
      ],
      "text/plain": [
       "        Date   Close   DSI\n",
       "0  4/25/2016  111.08  30.0\n",
       "1  4/26/2016  111.23  26.0\n",
       "2  4/27/2016  111.26  31.0\n",
       "3  4/28/2016  108.55  26.0\n",
       "4  4/29/2016  106.90  26.0"
      ]
     },
     "execution_count": 436,
     "metadata": {},
     "output_type": "execute_result"
    }
   ],
   "source": [
    "# Read Data\n",
    "data = pd.read_csv(\"Japanese_Data.csv\")\n",
    "data.head() "
   ]
  },
  {
   "cell_type": "code",
   "execution_count": 437,
   "metadata": {},
   "outputs": [
    {
     "data": {
      "text/html": [
       "<div>\n",
       "<style scoped>\n",
       "    .dataframe tbody tr th:only-of-type {\n",
       "        vertical-align: middle;\n",
       "    }\n",
       "\n",
       "    .dataframe tbody tr th {\n",
       "        vertical-align: top;\n",
       "    }\n",
       "\n",
       "    .dataframe thead th {\n",
       "        text-align: right;\n",
       "    }\n",
       "</style>\n",
       "<table border=\"1\" class=\"dataframe\">\n",
       "  <thead>\n",
       "    <tr style=\"text-align: right;\">\n",
       "      <th></th>\n",
       "      <th>Close</th>\n",
       "      <th>DSI</th>\n",
       "    </tr>\n",
       "    <tr>\n",
       "      <th>Date</th>\n",
       "      <th></th>\n",
       "      <th></th>\n",
       "    </tr>\n",
       "  </thead>\n",
       "  <tbody>\n",
       "    <tr>\n",
       "      <th>4/25/2016</th>\n",
       "      <td>111.08</td>\n",
       "      <td>30.0</td>\n",
       "    </tr>\n",
       "    <tr>\n",
       "      <th>4/26/2016</th>\n",
       "      <td>111.23</td>\n",
       "      <td>26.0</td>\n",
       "    </tr>\n",
       "    <tr>\n",
       "      <th>4/27/2016</th>\n",
       "      <td>111.26</td>\n",
       "      <td>31.0</td>\n",
       "    </tr>\n",
       "    <tr>\n",
       "      <th>4/28/2016</th>\n",
       "      <td>108.55</td>\n",
       "      <td>26.0</td>\n",
       "    </tr>\n",
       "    <tr>\n",
       "      <th>4/29/2016</th>\n",
       "      <td>106.90</td>\n",
       "      <td>26.0</td>\n",
       "    </tr>\n",
       "    <tr>\n",
       "      <th>...</th>\n",
       "      <td>...</td>\n",
       "      <td>...</td>\n",
       "    </tr>\n",
       "    <tr>\n",
       "      <th>4/19/2021</th>\n",
       "      <td>108.09</td>\n",
       "      <td>NaN</td>\n",
       "    </tr>\n",
       "    <tr>\n",
       "      <th>4/20/2021</th>\n",
       "      <td>108.07</td>\n",
       "      <td>NaN</td>\n",
       "    </tr>\n",
       "    <tr>\n",
       "      <th>4/21/2021</th>\n",
       "      <td>108.09</td>\n",
       "      <td>NaN</td>\n",
       "    </tr>\n",
       "    <tr>\n",
       "      <th>4/22/2021</th>\n",
       "      <td>108.17</td>\n",
       "      <td>NaN</td>\n",
       "    </tr>\n",
       "    <tr>\n",
       "      <th>4/23/2021</th>\n",
       "      <td>107.94</td>\n",
       "      <td>NaN</td>\n",
       "    </tr>\n",
       "  </tbody>\n",
       "</table>\n",
       "<p>1305 rows × 2 columns</p>\n",
       "</div>"
      ],
      "text/plain": [
       "            Close   DSI\n",
       "Date                   \n",
       "4/25/2016  111.08  30.0\n",
       "4/26/2016  111.23  26.0\n",
       "4/27/2016  111.26  31.0\n",
       "4/28/2016  108.55  26.0\n",
       "4/29/2016  106.90  26.0\n",
       "...           ...   ...\n",
       "4/19/2021  108.09   NaN\n",
       "4/20/2021  108.07   NaN\n",
       "4/21/2021  108.09   NaN\n",
       "4/22/2021  108.17   NaN\n",
       "4/23/2021  107.94   NaN\n",
       "\n",
       "[1305 rows x 2 columns]"
      ]
     },
     "execution_count": 437,
     "metadata": {},
     "output_type": "execute_result"
    }
   ],
   "source": [
    "# Set Index\n",
    "data.set_index(\"Date\")"
   ]
  },
  {
   "cell_type": "code",
   "execution_count": 438,
   "metadata": {},
   "outputs": [
    {
     "data": {
      "text/plain": [
       "Date      0\n",
       "Close    58\n",
       "DSI      23\n",
       "dtype: int64"
      ]
     },
     "execution_count": 438,
     "metadata": {},
     "output_type": "execute_result"
    }
   ],
   "source": [
    "np.sum(pd.isnull(data))"
   ]
  },
  {
   "cell_type": "code",
   "execution_count": 439,
   "metadata": {},
   "outputs": [
    {
     "data": {
      "text/plain": [
       "Date     0\n",
       "Close    0\n",
       "DSI      0\n",
       "dtype: int64"
      ]
     },
     "execution_count": 439,
     "metadata": {},
     "output_type": "execute_result"
    }
   ],
   "source": [
    "# Drop NA\n",
    "data.dropna(inplace=True)\n",
    "np.sum(pd.isnull(data))"
   ]
  },
  {
   "cell_type": "code",
   "execution_count": 440,
   "metadata": {},
   "outputs": [
    {
     "data": {
      "application/vnd.jupyter.widget-view+json": {
       "model_id": "adb42f8342b946508303ae700999d83c",
       "version_major": 2,
       "version_minor": 0
      },
      "text/plain": [
       "Canvas(toolbar=Toolbar(toolitems=[('Home', 'Reset original view', 'home', 'home'), ('Back', 'Back to previous …"
      ]
     },
     "metadata": {},
     "output_type": "display_data"
    }
   ],
   "source": [
    "# Plot \n",
    "%matplotlib widget\n",
    "data1 = data.iloc[:,1]\n",
    "data2 = data.iloc[:,0]\n",
    "\n",
    "fig, ax1 = plt.subplots(figsize=(9, 4))\n",
    "\n",
    "color = 'tab:red'\n",
    "#ax1.set_xlabel('Year-Mon')\n",
    "ax1.set_ylabel('Daily Sentiment Index', color=color)\n",
    "ax1.plot(data[\"DSI\"], color=color)\n",
    "ax1.tick_params(axis='y', labelcolor=color)\n",
    "ax1.yaxis.set_ticks([0,15,30,45,60,75,90,105,120])\n",
    "\n",
    "ax2 = ax1.twinx()  # instantiate a second axes that shares the same x-axis\n",
    "\n",
    "color = 'tab:blue'\n",
    "ax2.set_ylabel(\"Yen\", color=color)  # we already handled the x-label with ax1\n",
    "ax2.plot(data[\"Close\"], color=color)\n",
    "ax2.tick_params(axis='y', labelcolor=color)\n",
    "#ax2.yaxis.set_ticks([0,15,30,45,60,75,90,105,120])\n",
    "\n",
    "#ax1.xaxis.set_ticks(np.arange(0, len(data2)))\n",
    "ax1.grid()\n",
    "fig.tight_layout() # otherwise the right y-label is slightly clipped\n",
    "#plt.title(Future + \" Futures Price\")\n",
    "plt.show()"
   ]
  },
  {
   "cell_type": "code",
   "execution_count": 441,
   "metadata": {},
   "outputs": [],
   "source": [
    "Foreign = data.copy()\n",
    "Foreign['DSI'] = Foreign['DSI'].astype('int')\n",
    "\n",
    "Foreign['Date'] = Foreign['Date'].astype('datetime64[ns]')\n",
    "Foreign.index = Foreign['Date']\n",
    "Foreign = Foreign[['DSI']]"
   ]
  },
  {
   "cell_type": "code",
   "execution_count": 442,
   "metadata": {},
   "outputs": [],
   "source": [
    "#Trigger and Exit\n",
    "\n",
    "# Developing Algorithm to derive time series using assigned values of K and A (Kalman Filter Creation)\n",
    "# Create Variables so it fits data\n",
    "Foreign[\"Kalman_Filter\"] = Foreign[\"DSI\"][0]\n",
    "Foreign[\"Prediction_Error\"] = Foreign[\"DSI\"][0]\n",
    "Foreign[\"Filter_Error\"] = Foreign[\"DSI\"][0]\n",
    "\n",
    "# Function created to perform Kalman Filter (This function can be changed to view all the values change)\n",
    "def Kalman_Filter(k,a):\n",
    "    for t in range(0,len(Foreign[\"DSI\"])):\n",
    "        Foreign[\"Kalman_Filter\"][t] = (1-k)*a*Foreign[\"Kalman_Filter\"][t-1] + k*Foreign[\"DSI\"][t]\n",
    "        Foreign[\"Prediction_Error\"][t] = Foreign[\"DSI\"][t] - a*Foreign[\"Kalman_Filter\"][t-1]\n",
    "        Foreign[\"Filter_Error\"][t] = Foreign[\"DSI\"][t] - Foreign['Kalman_Filter'][t]\n",
    "\n",
    "    %matplotlib widget\n",
    "    plt.figure(figsize=(20,10))\n",
    "    plt.plot(range(0,len(Foreign[\"DSI\"])), Foreign[\"DSI\"])\n",
    "    plt.plot(range(0,len(Foreign[\"DSI\"])), Foreign[\"Kalman_Filter\"])\n",
    "    plt.xlabel(\"Time\")\n",
    "    plt.ylabel(\"DSI\")\n",
    "    plt.title(\"Kalman Filter vs. Actual E\")\n",
    "    \n",
    "    Filter_Error = np.mean(np.square(Foreign[\"Filter_Error\"]))\n",
    "    Prediction_Error = np.mean(np.mean(Foreign[\"Prediction_Error\"]))\n",
    "    return(Prediction_Error)"
   ]
  },
  {
   "cell_type": "code",
   "execution_count": 443,
   "metadata": {
    "scrolled": true
   },
   "outputs": [
    {
     "data": {
      "application/vnd.jupyter.widget-view+json": {
       "model_id": "76b74834e6e74bb199cb8e0f7f7305fc",
       "version_major": 2,
       "version_minor": 0
      },
      "text/plain": [
       "Canvas(toolbar=Toolbar(toolitems=[('Home', 'Reset original view', 'home', 'home'), ('Back', 'Back to previous …"
      ]
     },
     "metadata": {},
     "output_type": "display_data"
    },
    {
     "data": {
      "text/plain": [
       "4.032679738562091"
      ]
     },
     "execution_count": 443,
     "metadata": {},
     "output_type": "execute_result"
    }
   ],
   "source": [
    "Kalman_Filter(0.15,0.9999)"
   ]
  },
  {
   "cell_type": "code",
   "execution_count": 444,
   "metadata": {},
   "outputs": [],
   "source": [
    "Foreign[\"Close\"] = data[\"Close\"].values"
   ]
  },
  {
   "cell_type": "code",
   "execution_count": 445,
   "metadata": {},
   "outputs": [],
   "source": [
    "Foreign[\"% Change\"] = Foreign[\"Close\"].pct_change().shift(-1)"
   ]
  },
  {
   "cell_type": "code",
   "execution_count": 446,
   "metadata": {},
   "outputs": [],
   "source": [
    "# Implementing a trade strategy of only going long when presented\n",
    "warnings.filterwarnings('ignore')\n",
    "\n",
    "# Creating empty columns to save values\n",
    "Foreign[\"Signals\"] = 0.\n",
    "\n",
    "# Identifying trade strategy\n",
    "Foreign.loc[Foreign[\"Kalman_Filter\"] < Foreign[\"DSI\"], \"Signals\"] = 1 # Long\n",
    "Foreign.loc[Foreign[\"Kalman_Filter\"] > Foreign[\"DSI\"], \"Signals\"] = -1 # Short\n",
    "\n",
    "for i in range(0,len(Foreign)):\n",
    "    if Foreign[\"Signals\"][i]==1:\n",
    "        Foreign[\"% Change\"][i] = Foreign[\"Close\"].pct_change().shift(-1)[i]\n",
    "        \n",
    "    elif Foreign[\"Signals\"][i]==0:\n",
    "        Foreign[\"% Change\"][i] = -Foreign[\"Close\"].pct_change().shift(-1)[i]"
   ]
  },
  {
   "cell_type": "code",
   "execution_count": 447,
   "metadata": {},
   "outputs": [],
   "source": [
    "Foreign.dropna(inplace = True)\n",
    "Foreign[\"Profits\"] = Foreign[\"% Change\"] + 1"
   ]
  },
  {
   "cell_type": "code",
   "execution_count": 448,
   "metadata": {
    "scrolled": true
   },
   "outputs": [
    {
     "data": {
      "text/html": [
       "<div>\n",
       "<style scoped>\n",
       "    .dataframe tbody tr th:only-of-type {\n",
       "        vertical-align: middle;\n",
       "    }\n",
       "\n",
       "    .dataframe tbody tr th {\n",
       "        vertical-align: top;\n",
       "    }\n",
       "\n",
       "    .dataframe thead th {\n",
       "        text-align: right;\n",
       "    }\n",
       "</style>\n",
       "<table border=\"1\" class=\"dataframe\">\n",
       "  <thead>\n",
       "    <tr style=\"text-align: right;\">\n",
       "      <th></th>\n",
       "      <th>DSI</th>\n",
       "      <th>Kalman_Filter</th>\n",
       "      <th>Prediction_Error</th>\n",
       "      <th>Filter_Error</th>\n",
       "      <th>Close</th>\n",
       "      <th>% Change</th>\n",
       "      <th>Signals</th>\n",
       "      <th>Profits</th>\n",
       "    </tr>\n",
       "    <tr>\n",
       "      <th>Date</th>\n",
       "      <th></th>\n",
       "      <th></th>\n",
       "      <th></th>\n",
       "      <th></th>\n",
       "      <th></th>\n",
       "      <th></th>\n",
       "      <th></th>\n",
       "      <th></th>\n",
       "    </tr>\n",
       "  </thead>\n",
       "  <tbody>\n",
       "    <tr>\n",
       "      <th>2016-04-25</th>\n",
       "      <td>30</td>\n",
       "      <td>29</td>\n",
       "      <td>0</td>\n",
       "      <td>1</td>\n",
       "      <td>111.08</td>\n",
       "      <td>0.001350</td>\n",
       "      <td>1.0</td>\n",
       "      <td>1.001350</td>\n",
       "    </tr>\n",
       "    <tr>\n",
       "      <th>2016-04-26</th>\n",
       "      <td>26</td>\n",
       "      <td>28</td>\n",
       "      <td>-2</td>\n",
       "      <td>-2</td>\n",
       "      <td>111.23</td>\n",
       "      <td>0.000270</td>\n",
       "      <td>-1.0</td>\n",
       "      <td>1.000270</td>\n",
       "    </tr>\n",
       "    <tr>\n",
       "      <th>2016-04-27</th>\n",
       "      <td>31</td>\n",
       "      <td>28</td>\n",
       "      <td>3</td>\n",
       "      <td>3</td>\n",
       "      <td>111.26</td>\n",
       "      <td>-0.024357</td>\n",
       "      <td>1.0</td>\n",
       "      <td>0.975643</td>\n",
       "    </tr>\n",
       "    <tr>\n",
       "      <th>2016-04-28</th>\n",
       "      <td>26</td>\n",
       "      <td>27</td>\n",
       "      <td>-1</td>\n",
       "      <td>-1</td>\n",
       "      <td>108.55</td>\n",
       "      <td>-0.015200</td>\n",
       "      <td>-1.0</td>\n",
       "      <td>0.984800</td>\n",
       "    </tr>\n",
       "    <tr>\n",
       "      <th>2016-04-29</th>\n",
       "      <td>26</td>\n",
       "      <td>26</td>\n",
       "      <td>0</td>\n",
       "      <td>0</td>\n",
       "      <td>106.90</td>\n",
       "      <td>0.003929</td>\n",
       "      <td>0.0</td>\n",
       "      <td>1.003929</td>\n",
       "    </tr>\n",
       "  </tbody>\n",
       "</table>\n",
       "</div>"
      ],
      "text/plain": [
       "            DSI  Kalman_Filter  Prediction_Error  Filter_Error   Close  \\\n",
       "Date                                                                     \n",
       "2016-04-25   30             29                 0             1  111.08   \n",
       "2016-04-26   26             28                -2            -2  111.23   \n",
       "2016-04-27   31             28                 3             3  111.26   \n",
       "2016-04-28   26             27                -1            -1  108.55   \n",
       "2016-04-29   26             26                 0             0  106.90   \n",
       "\n",
       "            % Change  Signals   Profits  \n",
       "Date                                     \n",
       "2016-04-25  0.001350      1.0  1.001350  \n",
       "2016-04-26  0.000270     -1.0  1.000270  \n",
       "2016-04-27 -0.024357      1.0  0.975643  \n",
       "2016-04-28 -0.015200     -1.0  0.984800  \n",
       "2016-04-29  0.003929      0.0  1.003929  "
      ]
     },
     "execution_count": 448,
     "metadata": {},
     "output_type": "execute_result"
    }
   ],
   "source": [
    "Foreign.head()"
   ]
  },
  {
   "cell_type": "code",
   "execution_count": 449,
   "metadata": {},
   "outputs": [],
   "source": [
    "def RtoMonthly(R):\n",
    "    df = np.cumprod(R)\n",
    "    df.index = pd.to_datetime(df.index)\n",
    "    df = df.resample('1M').first()\n",
    "    df.index = df.index+ timedelta(days=1)\n",
    "    df = df.shift(-1).pct_change().dropna().iloc[:-1,:]\n",
    "    df.index = [str(i)[:10] for i in df.index]\n",
    "    return(df)\n",
    "\n",
    "def get_bt_graph_data(R):   \n",
    "\n",
    "    yahoo_data_raw = yf.download( tickers = \"SPY ^IRX\",\n",
    "            period = \"max\",\n",
    "            interval = \"1mo\")\n",
    "    yahoo_data = yahoo_data_raw[\"Close\"]\n",
    "\n",
    "    # Turn 3 mo Annual yield into monthly yield\n",
    "    yahoo_data[\"^IRX\"] = ((yahoo_data[\"^IRX\"]/4)/100 + 1) ** (1/3) - 1 \n",
    "\n",
    "    # SPY % change\n",
    "    yahoo_data[\"SPY\"] = yahoo_data[\"SPY\"].pct_change() + 1\n",
    "\n",
    "    # Convert Index types into strings\n",
    "    yahoo_data = yahoo_data.dropna()\n",
    "    yahoo_data.index = [str(i)[:10] for i in yahoo_data.index]\n",
    "\n",
    "    data = pd.concat([RtoMonthly(R)+1,  yahoo_data], axis = 1).dropna()\n",
    "    data.columns = [\"MQE Strategy\",  \"S&P 500\", \"^IRX\"]\n",
    "    return(data)\n",
    "\n",
    "def get_abr2(dff, how = \"normal\"):\n",
    "    dff = dff.copy()\n",
    "    if how == \"up\":\n",
    "        dff = dff[dff[\"S&P 500\"] > 0]\n",
    "    if how == \"down\":\n",
    "        dff = dff[dff[\"S&P 500\"] < 0]\n",
    "        \n",
    "    x = np.array(dff.iloc[:,1]).reshape(-1, 1)\n",
    "    y = np.array(dff.iloc[:,0])\n",
    "    model = LinearRegression().fit(x, y)\n",
    "    return(model.intercept_, model.coef_[0], model.score(x,y))\n",
    "\n",
    "def maxdrawdown(returns):\n",
    "    highest = 1\n",
    "    low = 1\n",
    "    drawdown = []\n",
    "    for p in np.cumprod(returns):\n",
    "        if p < highest:\n",
    "            if p < low:\n",
    "                low = p\n",
    "        else:\n",
    "            drawdown.append(1-(low/highest))\n",
    "            low = p\n",
    "            highest = p\n",
    "        \n",
    "    return(max(drawdown))\n",
    "\n",
    "def GINI_COEF(returns):\n",
    "    periods = len(returns)\n",
    "    LorenzCurve = np.cumsum(returns.sort_values( by = \"Returns\")-1)\n",
    "    LorenzCurve = pd.DataFrame({ 'Returns': [0]}).append(LorenzCurve)\n",
    "    Line = LorenzCurve.copy()\n",
    "    Line[\"Returns\"] = np.arange(0,1+1/periods, 1/periods)*max(LorenzCurve[\"Returns\"])\n",
    "\n",
    "    UpArea = 0\n",
    "    for i in range(1,len(returns)):\n",
    "        UpArea = UpArea + ((Line.iloc[i,:] - LorenzCurve.iloc[i,:] + Line.iloc[i-1,:] - LorenzCurve.iloc[i-1,:]) / 2)\n",
    "\n",
    "    if min(LorenzCurve[\"Returns\"]) < 0:\n",
    "        AllArea = (np.abs(min(LorenzCurve[\"Returns\"])) * periods) + ((max(LorenzCurve[\"Returns\"]) * periods)/2)\n",
    "    else:\n",
    "        AllArea = ((max(LorenzCurve[\"Returns\"]) * periods)/2)\n",
    "    gini = UpArea / AllArea\n",
    "    return(gini[0])\n",
    "\n",
    "def bucket_returns(data,quantiles):\n",
    "    returns = data.copy()\n",
    "    obs = len(returns)\n",
    "    bucket = obs//quantiles\n",
    "    compressd = returns.iloc[range(bucket-1, bucket*(quantiles+1)-1, bucket),:]\n",
    "\n",
    "    j=0\n",
    "    for i in range(bucket, bucket*(quantiles+1), bucket):\n",
    "        compressd.iloc[j//bucket,0] = np.cumsum(returns.iloc[j:i,0])[-1]\n",
    "        j=i\n",
    "    compressd.columns = [\"Returns\"]\n",
    "    return(compressd)\n",
    "\n",
    "def eval_table(data, excess_data):\n",
    "    yay = pd.DataFrame()\n",
    "    strategies = [\"MQE Strategy\"]\n",
    "    for strat in strategies:\n",
    "\n",
    "        df_go = data[[strat, \"S&P 500\"]]\n",
    "        df_solo = data[[strat]]\n",
    "\n",
    "        excess_df_go = excess_data[[strat, \"S&P 500\"]]\n",
    "        excess_df_solo = excess_data[[strat]] \n",
    "\n",
    "        i = evaluation(df_go-1, df_solo-1, excess_df_go-1, excess_df_solo-1)\n",
    "        yay = pd.concat([yay, i], axis = 1)\n",
    "\n",
    "    yay.columns = strategies\n",
    "    return(yay)\n",
    "\n",
    "def evaluation(df_go, df_solo, excess_df_go, excess_df_solo):\n",
    "    alpha, beta, rsquared = get_abr2(excess_df_go)\n",
    "    upalpha, upbeta, uprsquared = get_abr2(excess_df_go, how = \"up\")\n",
    "    downalpha, downbeta, downrsquared = get_abr2(excess_df_go, how = \"down\")\n",
    "    \n",
    "    alpha = 100 * alpha\n",
    "    upalpha = 100 * upalpha\n",
    "    downalpha = 100 * downalpha\n",
    "    \n",
    "    correl = df_go.corr().iloc[0,1]\n",
    "    winning = len(df_solo[df_solo > 0].dropna()) / len(df_solo)\n",
    "    mon_sd = np.std(df_solo)[0]*100\n",
    "    ann_sd = mon_sd * np.sqrt(12)\n",
    "    high = np.max(df_solo)[0] * 100\n",
    "    low = np.min(df_solo)[0] * 100\n",
    "    \n",
    "    df = df_solo.copy()\n",
    "    df.index = pd.to_datetime(df.index)\n",
    "    ann_ret = np.cumprod(df+1).resample('1Y').first().pct_change().dropna().mean(axis = 0)[0] * 100\n",
    "\n",
    "    maxdd = maxdrawdown(df_solo.iloc[:,0]+1)* 100\n",
    "    \n",
    "    excess_ann_ret = ((np.cumprod(excess_df_solo+1).iloc[-1,0] **(12/len(excess_df_solo)))-1) * 100\n",
    "    excess_ann_sd = np.std(excess_df_solo)[0]*100* np.sqrt(12)\n",
    "    sharpe = (excess_ann_ret - 1) / excess_ann_sd\n",
    "    gini = GINI_COEF(bucket_returns(df_solo, 10))\n",
    "\n",
    "    out =pd.DataFrame({\"Sharpe\": [str(round(sharpe,2))],\n",
    "    \"Average Annual Return\": [str(round(ann_ret,3))+ \"%\"],\n",
    "    \"Market Beta\": [str(round(beta,2))],\n",
    "    \"Monthly Alpha\": [str(round(alpha,2))+ \"%\"],\n",
    "    \"Correlation with S&P\": [str(round(correl,2))],\n",
    "    \"Max Drawdown\": [str(round(-maxdd,2))+ \"%\"],\n",
    "    \"% of Winning Mo.\": [str(round(winning*100,2))+ \"%\"], \n",
    "    \"Gini\": [str(round(gini,3))],\n",
    "    \"Forecast Accuracy\": [np.nan],              \n",
    "    \"Up Alpha\": [str(round(upalpha,2))+ \"%\"],\n",
    "    \"Down Alpha\": [str(round(downalpha,2))+ \"%\"],\n",
    "    \"Up Beta\": [str(round(upbeta,2))],\n",
    "    \"Down Beta\": [str(round(downbeta,2))],       \n",
    "    \"Highest Monthly Return\": [str(round(high,2))],\n",
    "    \"Lowest Monthly Return\": [str(round(low,2))],\n",
    "    \"Annualized STD of Returns\": [str(round(ann_sd,2))+ \"%\"]}).transpose()\n",
    "\n",
    "    \n",
    "    return(out)\n",
    "\n",
    "def excess_returns(data):\n",
    "    data = data\n",
    "    for i in range(2):\n",
    "        data.iloc[:,i] = data.iloc[:,i] - data.iloc[:,2]\n",
    "    return(data.iloc[:,:-1])"
   ]
  },
  {
   "cell_type": "code",
   "execution_count": 450,
   "metadata": {},
   "outputs": [
    {
     "name": "stdout",
     "output_type": "stream",
     "text": [
      "[*********************100%***********************]  2 of 2 completed\n"
     ]
    }
   ],
   "source": [
    "R = Foreign[[\"Profits\"]]\n",
    "\n",
    "data_B = get_bt_graph_data(R)\n",
    "excess_data_B = excess_returns(data_B)\n",
    "table = eval_table(data_B, excess_data_B)\n",
    "\n",
    "data_B.index.names = ['Date']"
   ]
  },
  {
   "cell_type": "code",
   "execution_count": 451,
   "metadata": {
    "scrolled": false
   },
   "outputs": [
    {
     "data": {
      "text/html": [
       "<div>\n",
       "<style scoped>\n",
       "    .dataframe tbody tr th:only-of-type {\n",
       "        vertical-align: middle;\n",
       "    }\n",
       "\n",
       "    .dataframe tbody tr th {\n",
       "        vertical-align: top;\n",
       "    }\n",
       "\n",
       "    .dataframe thead th {\n",
       "        text-align: right;\n",
       "    }\n",
       "</style>\n",
       "<table border=\"1\" class=\"dataframe\">\n",
       "  <thead>\n",
       "    <tr style=\"text-align: right;\">\n",
       "      <th></th>\n",
       "      <th>MQE Strategy</th>\n",
       "    </tr>\n",
       "  </thead>\n",
       "  <tbody>\n",
       "    <tr>\n",
       "      <th>Sharpe</th>\n",
       "      <td>0.16</td>\n",
       "    </tr>\n",
       "    <tr>\n",
       "      <th>Average Annual Return</th>\n",
       "      <td>0.672%</td>\n",
       "    </tr>\n",
       "    <tr>\n",
       "      <th>Market Beta</th>\n",
       "      <td>0.02</td>\n",
       "    </tr>\n",
       "    <tr>\n",
       "      <th>Monthly Alpha</th>\n",
       "      <td>0.19%</td>\n",
       "    </tr>\n",
       "    <tr>\n",
       "      <th>Correlation with S&amp;P</th>\n",
       "      <td>0.03</td>\n",
       "    </tr>\n",
       "    <tr>\n",
       "      <th>Max Drawdown</th>\n",
       "      <td>-6.61%</td>\n",
       "    </tr>\n",
       "    <tr>\n",
       "      <th>% of Winning Mo.</th>\n",
       "      <td>52.54%</td>\n",
       "    </tr>\n",
       "    <tr>\n",
       "      <th>Gini</th>\n",
       "      <td>0.414</td>\n",
       "    </tr>\n",
       "    <tr>\n",
       "      <th>Forecast Accuracy</th>\n",
       "      <td>NaN</td>\n",
       "    </tr>\n",
       "    <tr>\n",
       "      <th>Up Alpha</th>\n",
       "      <td>0.89%</td>\n",
       "    </tr>\n",
       "    <tr>\n",
       "      <th>Down Alpha</th>\n",
       "      <td>0.03%</td>\n",
       "    </tr>\n",
       "    <tr>\n",
       "      <th>Up Beta</th>\n",
       "      <td>-0.15</td>\n",
       "    </tr>\n",
       "    <tr>\n",
       "      <th>Down Beta</th>\n",
       "      <td>0.06</td>\n",
       "    </tr>\n",
       "    <tr>\n",
       "      <th>Highest Monthly Return</th>\n",
       "      <td>7.11</td>\n",
       "    </tr>\n",
       "    <tr>\n",
       "      <th>Lowest Monthly Return</th>\n",
       "      <td>-6.61</td>\n",
       "    </tr>\n",
       "    <tr>\n",
       "      <th>Annualized STD of Returns</th>\n",
       "      <td>7.64%</td>\n",
       "    </tr>\n",
       "  </tbody>\n",
       "</table>\n",
       "</div>"
      ],
      "text/plain": [
       "                          MQE Strategy\n",
       "Sharpe                            0.16\n",
       "Average Annual Return           0.672%\n",
       "Market Beta                       0.02\n",
       "Monthly Alpha                    0.19%\n",
       "Correlation with S&P              0.03\n",
       "Max Drawdown                    -6.61%\n",
       "% of Winning Mo.                52.54%\n",
       "Gini                             0.414\n",
       "Forecast Accuracy                  NaN\n",
       "Up Alpha                         0.89%\n",
       "Down Alpha                       0.03%\n",
       "Up Beta                          -0.15\n",
       "Down Beta                         0.06\n",
       "Highest Monthly Return            7.11\n",
       "Lowest Monthly Return            -6.61\n",
       "Annualized STD of Returns        7.64%"
      ]
     },
     "execution_count": 451,
     "metadata": {},
     "output_type": "execute_result"
    }
   ],
   "source": [
    "table"
   ]
  },
  {
   "cell_type": "code",
   "execution_count": 463,
   "metadata": {},
   "outputs": [
    {
     "data": {
      "application/vnd.jupyter.widget-view+json": {
       "model_id": "0fe334fea06d4970b8c2e3923048c551",
       "version_major": 2,
       "version_minor": 0
      },
      "text/plain": [
       "Canvas(toolbar=Toolbar(toolitems=[('Home', 'Reset original view', 'home', 'home'), ('Back', 'Back to previous …"
      ]
     },
     "metadata": {},
     "output_type": "display_data"
    },
    {
     "data": {
      "text/plain": [
       "Text(0, 0.5, '% of Profit')"
      ]
     },
     "execution_count": 463,
     "metadata": {},
     "output_type": "execute_result"
    }
   ],
   "source": [
    "%matplotlib widget\n",
    "plt.plot(Foreign[\"Profits\"].cumprod())\n",
    "plt.title(\"Equity Line for Strategy \")\n",
    "plt.xlabel(\"Investment Horizon\")\n",
    "plt.ylabel(\"% of Profit\")"
   ]
  }
 ],
 "metadata": {
  "kernelspec": {
   "display_name": "Python 3",
   "language": "python",
   "name": "python3"
  },
  "language_info": {
   "codemirror_mode": {
    "name": "ipython",
    "version": 3
   },
   "file_extension": ".py",
   "mimetype": "text/x-python",
   "name": "python",
   "nbconvert_exporter": "python",
   "pygments_lexer": "ipython3",
   "version": "3.8.3"
  },
  "latex_envs": {
   "LaTeX_envs_menu_present": true,
   "autoclose": false,
   "autocomplete": false,
   "bibliofile": "biblio.bib",
   "cite_by": "apalike",
   "current_citInitial": 1,
   "eqLabelWithNumbers": false,
   "eqNumInitial": 1,
   "hotkeys": {
    "equation": "Ctrl-E",
    "itemize": "Ctrl-I"
   },
   "labels_anchors": false,
   "latex_user_defs": false,
   "report_style_numbering": false,
   "user_envs_cfg": false
  },
  "toc": {
   "base_numbering": 1,
   "nav_menu": {},
   "number_sections": false,
   "sideBar": true,
   "skip_h1_title": false,
   "title_cell": "Table of Contents",
   "title_sidebar": "Contents",
   "toc_cell": false,
   "toc_position": {},
   "toc_section_display": true,
   "toc_window_display": false
  }
 },
 "nbformat": 4,
 "nbformat_minor": 4
}
